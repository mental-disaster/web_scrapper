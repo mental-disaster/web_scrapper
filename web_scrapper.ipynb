{
 "cells": [
  {
   "cell_type": "markdown",
   "metadata": {},
   "source": [
    "# Python 웹 스크래퍼\n",
    "---\n",
    "##### 사용할 웹페이지 : 공공 데이터 포탈<br/>https://www.data.go.kr/"
   ]
  },
  {
   "cell_type": "code",
   "execution_count": 1,
   "metadata": {},
   "outputs": [],
   "source": [
    "from gov import get_datas\n",
    "from save import save_to_file"
   ]
  },
  {
   "cell_type": "code",
   "execution_count": 2,
   "metadata": {
    "scrolled": false
   },
   "outputs": [],
   "source": [
    "gov_datas = get_datas()\n",
    "save_to_file(gov_datas)"
   ]
  },
  {
   "cell_type": "code",
   "execution_count": 5,
   "metadata": {},
   "outputs": [
    {
     "name": "stdout",
     "output_type": "stream",
     "text": [
      "s3 bucket connected!\n"
     ]
    }
   ],
   "source": [
    "from app.m_connection import s3_connection, s3_put_object, s3_get_object\n",
    "from app.m_config import AWS_S3_BUCKET_NAME, AWS_S3_BUCKET_REGION\n",
    "\n",
    "s3 = s3_connection()"
   ]
  },
  {
   "cell_type": "code",
   "execution_count": 6,
   "metadata": {},
   "outputs": [
    {
     "name": "stdout",
     "output_type": "stream",
     "text": [
      "파일 저장 성공\n"
     ]
    }
   ],
   "source": [
    "ret = s3_put_object(s3, AWS_S3_BUCKET_NAME, \"data.csv\", \"temp.csv\")\n",
    "if ret :\n",
    "    print(\"파일 저장 성공\")\n",
    "else:\n",
    "    print(\"파일 저장 실패\")"
   ]
  },
  {
   "cell_type": "code",
   "execution_count": 7,
   "metadata": {},
   "outputs": [
    {
     "name": "stdout",
     "output_type": "stream",
     "text": [
      "파일 저장 성공\n"
     ]
    }
   ],
   "source": [
    "ret = s3_get_object(s3, AWS_S3_BUCKET_NAME, \"temp.csv\", \"haha.csv\")\n",
    "if ret :\n",
    "    print(\"파일 저장 성공\")\n",
    "else:\n",
    "    print(\"파일 저장 실패\")"
   ]
  },
  {
   "cell_type": "code",
   "execution_count": null,
   "metadata": {},
   "outputs": [],
   "source": []
  }
 ],
 "metadata": {
  "kernelspec": {
   "display_name": "Python 3",
   "language": "python",
   "name": "python3"
  },
  "language_info": {
   "codemirror_mode": {
    "name": "ipython",
    "version": 3
   },
   "file_extension": ".py",
   "mimetype": "text/x-python",
   "name": "python",
   "nbconvert_exporter": "python",
   "pygments_lexer": "ipython3",
   "version": "3.8.8"
  }
 },
 "nbformat": 4,
 "nbformat_minor": 4
}
